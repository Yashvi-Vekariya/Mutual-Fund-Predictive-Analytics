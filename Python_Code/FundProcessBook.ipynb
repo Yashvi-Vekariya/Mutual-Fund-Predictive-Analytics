{
 "cells": [
  {
   "cell_type": "markdown",
   "id": "99b815b0",
   "metadata": {},
   "source": [
    "##Topic: Mutual Fund Predictive Analytics:\n",
    "**Yashvi Vekariya** (yashviivekariya@gmail.com)\n",
    "\n",
    "**Overview and Motivation:** Provide an overview of the project goals and the motivation for it. Consider that this will be read by people who did not see your project proposal.\n",
    "\n",
    "Overview: Predicting the best Mutual funds to invest in based on short/long term goals. The analysis was done on the historical returns data available. I selected top 10 Fund Families based on largest Asset Under Management (AUM). It had approximately 1277 funds from these 10 fund families comprising of all the different Morningstar categories like Large,MidCap,Small, Growth,Blend,Value,Index funds etc. The source of the data were from Morningstar.com, Yahoo finance. The data from Morningstar was scraped using Beautiful Soup and Pandas read_html libraries. Fund parameters like Alpha,Beta,Sharpe Ratio, Sortino Ratio,Standard Deviation, Returns information, Managemanet Information,Holdings information etc. was available in a annualized form on the website. The fund returns plots(funds comparison) were plotted using matplotlib libraries using Yahoo Finance API etc. The NAV information is available on a daily basis on Yahoo Finance servers which helped us to plot these visualizations.\n",
    "\n",
    "\n",
    "\n",
    "\n",
    "**Related Work:** Anything that inspired you, such as a paper, a web site, or something I discussed in class.\n",
    "\n",
    "After taking the Data Science course where I learnt different types of regression/prediction techniques. I never got an opportunity to apply such regression techniques on the fund data. I thought this to be an opportunity to predict the best funds available in market for investments. As I took the actual fund data, people can check out our analysis and think on investing :) \n",
    "\n",
    "\n",
    "\n",
    "\n",
    "**Initial Questions:** What questions are you trying to answer? How did these questions evolve over the course of the project? What new questions did you consider in the course of your analysis?\n",
    "\n",
    "1) To filter out bad funds from the pools of different funds available in market.\n",
    "\n",
    "2) After classification and regression using ensemble techniques, predict the best funds. To show relation between historical expense ratio and returns.\n",
    "\n",
    "3) Create different models and pick the best one. This aligns with the course syllabus. I have used similar techniques used in Data Science class/Sections/Assignments in our analysis like Cross Validation, Random Forest Classification, Linear Regression. For Visualizations, I used scatter plot, box plot, bar plots , line charts ,histograms, heat maps etc.\n",
    "\n",
    "4)i) New questions like which are the best funds among different top performing funds? What will be the cumulative sum (cumsum) of the portfolio if I select a subset of the calculated top perfroming funds.\n",
    "\n",
    "ii) What is the correlation amongst the Top performing funds.\n",
    "\n",
    "**Data:** Source, scraping method, cleanup, etc.\n",
    "\n",
    "I used data from Morningstar.com by using web scraping. The data was not in the correct html format so I had to use different techniques in python to align the data in a dataframe for analysis. I had to handle missing values as some of the funds had merged with other funds, data was missing for some of the year. I filled the missing data with appropriate values using ffill() so as to fit the data in a regression model or totally scrap that fund from analysis. I also used Yahoo Finance daily returns data to plot the graphs. I used Beautiful soup web scraping libraries for gathering the data (to loop through different a, tr, th), I also used pandas.readhtml to read the tabular data from the html page. I used firebug lite tools to find the different URI's which had the response data I require.\n",
    "\n",
    "**Exploratory Analysis:** What visualizations did you use to look at your data in different ways? What are the different statistical methods you considered? Justify the decisions you made, and show any major changes to your ideas. How did you reach these conclusions?\n",
    "\n",
    "Visualizations like scatter plot, box plot, bar plots , line charts ,histograms, heat maps.\n",
    "1. Box Plot: I used box plots to decide which estimators give better accuracy for Random Forest classifier using cross validation.\n",
    "2. Scatter Plot: Scatter plots were used to find the relation between Expense Ratio and Returns, relationship between Risk and Returns.\n",
    "3. Heat maps: I used heat maps to show the corelation between multiple Top performing funds\n",
    "4. Line Charts: Line Charts to plot fund returns for multiple top performing funds.\n",
    "5. Histograms : Histograms to plot distribution of Fund returns.\n",
    "\n",
    "**Final Analysis:** What did you learn about the data? How did you answer the questions? \n",
    "How can you justify your answers?\n",
    "\n",
    "1. I found out Top performing fund for 3 year, 5year and 10 year data available.\n",
    "2. **In latest 3 years available data, the mutual fund with less Expense Ratio gives more returns on investments. However in case of 10 year investments, mutual funds with more expense ratio gives more returns.**\n",
    "3. Justification: I tried Linear Regression and Random Forest Classification. Random Forest Classifer was used to predict Top performing funds with Accuracy of 92 percent. The Linear Regression which was used to predict poor performing fund had the Mean Squared Error to be approximately 0.\n",
    "4. I identified 155 poor performing funds from the pool of 1277 funds which were consistently giving poor returns and was a total NO for investments.\n",
    "5. I calculated the cumulative sum of the portfolio if I select a subset of Top performing funds which will help in visualizing the investor's portfolio when these funds are purchased."
   ]
  },
  {
   "cell_type": "code",
   "execution_count": null,
   "id": "bdc263db",
   "metadata": {
    "collapsed": false
   },
   "outputs": [],
   "source": []
  }
 ],
 "metadata": {
  "language_info": {
   "name": "python"
  }
 },
 "nbformat": 4,
 "nbformat_minor": 5
}
